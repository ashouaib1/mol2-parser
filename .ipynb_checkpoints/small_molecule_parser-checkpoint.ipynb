{
 "cells": [
  {
   "cell_type": "code",
   "execution_count": null,
   "metadata": {},
   "outputs": [],
   "source": [
    "import glob\n",
    "import pandas as pd\n",
    "import moles\n",
    "\n",
    "import matplotlib.pyplot as plt"
   ]
  },
  {
   "cell_type": "code",
   "execution_count": null,
   "metadata": {},
   "outputs": [],
   "source": [
    "mol_info = []\n",
    "table = []\n",
    "\n",
    "for i in glob.glob('mol2_files/*.mol2'):\n",
    "    \n",
    "    mol2 = moles.parse_mol2(i)\n",
    "    \n",
    "    db = moles.Datablocks(mol2)\n",
    "    \n",
    "    basic_info = db.mol_info()\n",
    "    \n",
    "    mol_info.append(basic_info[0][0])\n",
    "    mol_info.append(basic_info[1][0])\n",
    "    mol_info.append(basic_info[1][1])\n",
    "    \n",
    "    drug = moles.Chem_Info(db.atom_info(), db.bond_info())\n",
    "    \n",
    "    mol_info.append(drug.molar_mass())\n",
    "    mol_info.append(drug.HB_donor())\n",
    "    mol_info.append(drug.HB_acceptor())\n",
    "    mol_info.append(drug.net_charge())\n",
    "    \n",
    "    for j in range(len(drug.atom_count())):\n",
    "        mol_info.append(drug.atom_count()[j])\n",
    "        \n",
    "    table.append(mol_info)\n",
    "    mol_info = []\n",
    "\n",
    "molecules = pd.DataFrame(table, columns = ['Molecule ID', '# of Atoms', '# of Bonds',\n",
    "                                           'Molar Mass', 'HB Donors', 'HB Acceptors',\n",
    "                                           'Net Charge', 'Carbons', 'Hydrogens',\n",
    "                                           'Nitrogens', 'Oxygens', 'Halogens',\n",
    "                                           'Sulfurs', 'Phosph.', 'Other'])\n",
    "    \n",
    "molecules"
   ]
  },
  {
   "cell_type": "code",
   "execution_count": null,
   "metadata": {},
   "outputs": [],
   "source": [
    "molecules['Molar Mass'].describe()"
   ]
  },
  {
   "cell_type": "code",
   "execution_count": null,
   "metadata": {},
   "outputs": [],
   "source": [
    "small_molecules = molecules.to_csv('zdd_fda_approved.csv')"
   ]
  },
  {
   "cell_type": "code",
   "execution_count": null,
   "metadata": {},
   "outputs": [],
   "source": [
    "test1 = molecules.loc[molecules['Molar Mass'] <= 500]\n",
    "test2 = test1.loc[molecules['HB Donors'] <= 5]\n",
    "test3 = test2.loc[molecules['HB Acceptors'] <= 10]\n",
    "test3"
   ]
  },
  {
   "cell_type": "code",
   "execution_count": null,
   "metadata": {},
   "outputs": [],
   "source": [
    "phos = molecules.loc[molecules['Phosph.'] >= 1]\n",
    "phos"
   ]
  },
  {
   "cell_type": "code",
   "execution_count": null,
   "metadata": {},
   "outputs": [],
   "source": [
    "molecules.plot(kind='scatter', x='Carbons', y='Molar Mass', c=['darkgray'], s=100)"
   ]
  },
  {
   "cell_type": "code",
   "execution_count": null,
   "metadata": {},
   "outputs": [],
   "source": [
    "molecules.plot(kind='scatter', x='Hydrogens', y='Molar Mass', c=['darkgray'], s=100)"
   ]
  },
  {
   "cell_type": "code",
   "execution_count": null,
   "metadata": {},
   "outputs": [],
   "source": [
    "import numpy as np\n",
    "\n",
    "# Data to plot\n",
    "labels = ('C', 'H', 'N', 'O', 'P', 'S', 'H', 'Other')\n",
    "y_pos = np.arange(len(labels))\n",
    "amount = [molecules['Carbons'].sum(),\n",
    "          molecules['Hydrogens'].sum(),\n",
    "          molecules['Nitrogens'].sum(),\n",
    "          molecules['Oxygens'].sum(),\n",
    "          molecules['Phosph.'].sum(),\n",
    "          molecules['Sulfurs'].sum(),\n",
    "          molecules['Halogens'].sum(),\n",
    "          molecules['Other'].sum()]\n",
    "\n",
    "# Plot\n",
    "plt.bar(y_pos, amount, width=0.8, align='center', alpha=1.0)\n",
    "plt.xticks(y_pos, labels)\n",
    "plt.ylabel('Usage')\n",
    "plt.title('Atom Count')\n",
    " \n",
    "plt.show()"
   ]
  },
  {
   "cell_type": "code",
   "execution_count": null,
   "metadata": {},
   "outputs": [],
   "source": []
  },
  {
   "cell_type": "code",
   "execution_count": null,
   "metadata": {},
   "outputs": [],
   "source": []
  }
 ],
 "metadata": {
  "kernelspec": {
   "display_name": "Python 3",
   "language": "python",
   "name": "python3"
  },
  "language_info": {
   "codemirror_mode": {
    "name": "ipython",
    "version": 3
   },
   "file_extension": ".py",
   "mimetype": "text/x-python",
   "name": "python",
   "nbconvert_exporter": "python",
   "pygments_lexer": "ipython3",
   "version": "3.6.4"
  }
 },
 "nbformat": 4,
 "nbformat_minor": 2
}
